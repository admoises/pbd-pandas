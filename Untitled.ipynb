{
 "cells": [
  {
   "cell_type": "code",
   "execution_count": 1,
   "id": "c7ce0faa",
   "metadata": {},
   "outputs": [],
   "source": [
    "import pandas as pd\n",
    "import matplotlib.pyplot as plt\n",
    "import numpy as np"
   ]
  },
  {
   "cell_type": "code",
   "execution_count": 1,
   "id": "01e3a36c",
   "metadata": {},
   "outputs": [
    {
     "data": {
      "text/plain": [
       "'\\n    A serialização busca tratar os dados para evitar conflitos entre os sistemas.\\n    ORM (Object Relational Mapper) - Possui duas estratégias para implementação: Active Record OR Data Mapper\\n        Active Record: Django, Laravel(Eloquent), CakePHP\\n        Data Mapper: SQLAlchemy\\n'"
      ]
     },
     "execution_count": 1,
     "metadata": {},
     "output_type": "execute_result"
    }
   ],
   "source": [
    "\"\"\"\n",
    "    A serialização busca tratar os dados para evitar conflitos entre os sistemas.\n",
    "    ORM (Object Relational Mapper) - Possui duas estratégias para implementação: Active Record OR Data Mapper\n",
    "        Active Record: Django, Laravel(Eloquent), CakePHP\n",
    "        Data Mapper: SQLAlchemy\n",
    "\"\"\""
   ]
  },
  {
   "cell_type": "code",
   "execution_count": null,
   "id": "d69abd3a",
   "metadata": {},
   "outputs": [],
   "source": []
  }
 ],
 "metadata": {
  "interpreter": {
   "hash": "191c5e2111f6f71ffba11bdabdd10d2f5104f8b09e00bef630460c281b5383c9"
  },
  "kernelspec": {
   "display_name": "Python 3.10.4 64-bit (windows store)",
   "language": "python",
   "name": "python3"
  },
  "language_info": {
   "codemirror_mode": {
    "name": "ipython",
    "version": 3
   },
   "file_extension": ".py",
   "mimetype": "text/x-python",
   "name": "python",
   "nbconvert_exporter": "python",
   "pygments_lexer": "ipython3",
   "version": "3.10.4"
  }
 },
 "nbformat": 4,
 "nbformat_minor": 5
}
