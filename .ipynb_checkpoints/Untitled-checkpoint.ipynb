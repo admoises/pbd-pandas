{
 "cells": [
  {
   "cell_type": "code",
   "execution_count": 1,
   "id": "3fc853b5",
   "metadata": {},
   "outputs": [],
   "source": [
    "import pandas as pd\n",
    "import matplotlib.pyplot as plt\n",
    "import numpy as np"
   ]
  },
  {
   "cell_type": "code",
   "execution_count": null,
   "id": "0e577e52",
   "metadata": {},
   "outputs": [],
   "source": [
    "\"\"\"\n",
    "    A serialização busca tratar os dados para evitar conflitos entre os sistemas.\n",
    "    ORM (Object Relational Mapper) - Possui duas estratégias para implementação: Active Record OR Data Mapper\n",
    "        Active Record: Django, Laravel(Eloquent), CakePHP\n",
    "        Data Mapper: SQLAlchemy\n",
    "\"\"\""
   ]
  },
  {
   "cell_type": "code",
   "execution_count": null,
   "id": "1eb31f3a",
   "metadata": {},
   "outputs": [],
   "source": []
  }
 ],
 "metadata": {
  "kernelspec": {
   "display_name": "Python 3 (ipykernel)",
   "language": "python",
   "name": "python3"
  },
  "language_info": {
   "codemirror_mode": {
    "name": "ipython",
    "version": 3
   },
   "file_extension": ".py",
   "mimetype": "text/x-python",
   "name": "python",
   "nbconvert_exporter": "python",
   "pygments_lexer": "ipython3",
   "version": "3.9.7"
  }
 },
 "nbformat": 4,
 "nbformat_minor": 5
}
